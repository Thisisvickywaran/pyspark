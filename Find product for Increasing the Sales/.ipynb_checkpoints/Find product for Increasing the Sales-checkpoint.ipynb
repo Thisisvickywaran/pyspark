{
 "cells": [
  {
   "cell_type": "markdown",
   "id": "b6abb7b4-b4b7-451e-bf9f-e483403e406a",
   "metadata": {},
   "source": [
    "Find product for Increasing the Sales"
   ]
  },
  {
   "cell_type": "code",
   "execution_count": 1,
   "id": "9409cc6b-a33c-40ac-883a-d07cf4c0d16d",
   "metadata": {},
   "outputs": [],
   "source": [
    "from pyspark.sql import SparkSession"
   ]
  },
  {
   "cell_type": "code",
   "execution_count": 7,
   "id": "a5138d90-518b-44c9-8443-ecb034e6d48c",
   "metadata": {},
   "outputs": [
    {
     "data": {
      "text/html": [
       "\n",
       "            <div>\n",
       "                <p><b>SparkSession - in-memory</b></p>\n",
       "                \n",
       "        <div>\n",
       "            <p><b>SparkContext</b></p>\n",
       "\n",
       "            <p><a href=\"http://DESKTOP-0LF0S6I:4040\">Spark UI</a></p>\n",
       "\n",
       "            <dl>\n",
       "              <dt>Version</dt>\n",
       "                <dd><code>v3.5.0</code></dd>\n",
       "              <dt>Master</dt>\n",
       "                <dd><code>local[*]</code></dd>\n",
       "              <dt>AppName</dt>\n",
       "                <dd><code>Find product for Increasing the Sales</code></dd>\n",
       "            </dl>\n",
       "        </div>\n",
       "        \n",
       "            </div>\n",
       "        "
      ],
      "text/plain": [
       "<pyspark.sql.session.SparkSession at 0x1fab6764a30>"
      ]
     },
     "execution_count": 7,
     "metadata": {},
     "output_type": "execute_result"
    }
   ],
   "source": [
    "spark = SparkSession.builder\\\n",
    "        .master(\"local\")\\\n",
    "        .appName(\"Find product for Increasing the Sales\")\\\n",
    "        .getOrCreate()\n",
    "        \n",
    "spark"
   ]
  },
  {
   "cell_type": "code",
   "execution_count": 24,
   "id": "9fba6ccd-e1d3-4280-a997-aa56b010b3c4",
   "metadata": {},
   "outputs": [],
   "source": [
    "df_salestable=spark.read.format(\"csv\").option(\"header\", \"true\").load(\"sales_table.csv\")"
   ]
  },
  {
   "cell_type": "code",
   "execution_count": 25,
   "id": "0f930816-c9b7-476d-8606-862b88b1c262",
   "metadata": {},
   "outputs": [
    {
     "name": "stdout",
     "output_type": "stream",
     "text": [
      "+----------+----+----------------+\n",
      "|product_id|year|total_year_sales|\n",
      "+----------+----+----------------+\n",
      "|         1|2019|            1000|\n",
      "|         1|2020|            1200|\n",
      "|         1|2021|            1100|\n",
      "|         2|2019|             500|\n",
      "|         2|2020|             600|\n",
      "|         2|2021|             900|\n",
      "|         3|2019|             300|\n",
      "|         3|2020|             450|\n",
      "|         3|2021|             400|\n",
      "+----------+----+----------------+\n",
      "\n"
     ]
    }
   ],
   "source": [
    "df_salestable.show()"
   ]
  },
  {
   "cell_type": "code",
   "execution_count": 26,
   "id": "79a88162-d7ee-43a4-92da-db872c63b5b2",
   "metadata": {},
   "outputs": [],
   "source": [
    "df_producttable=spark.read.format(\"csv\").option(\"header\", \"true\").load(\"product_table.csv\")"
   ]
  },
  {
   "cell_type": "code",
   "execution_count": 27,
   "id": "8e77fc0d-9e6d-4152-9b64-bacb49f71a32",
   "metadata": {},
   "outputs": [
    {
     "name": "stdout",
     "output_type": "stream",
     "text": [
      "+----------+------------+---------------+\n",
      "|product_id|product_name|       category|\n",
      "+----------+------------+---------------+\n",
      "|         1|     Laptops|    Electronics|\n",
      "|         2|       Jeans|       Clothing|\n",
      "|         3|      Chairs|Home Appliances|\n",
      "+----------+------------+---------------+\n",
      "\n"
     ]
    }
   ],
   "source": [
    "df_producttable.show()"
   ]
  },
  {
   "cell_type": "code",
   "execution_count": 198,
   "id": "fafee903-14c7-4d44-9372-72a6a9ee984d",
   "metadata": {},
   "outputs": [
    {
     "name": "stdout",
     "output_type": "stream",
     "text": [
      "root\n",
      " |-- product_id: string (nullable = true)\n",
      " |-- product_name: string (nullable = true)\n",
      " |-- category: string (nullable = true)\n",
      "\n"
     ]
    }
   ],
   "source": [
    "df_producttable.printSchema()"
   ]
  },
  {
   "cell_type": "code",
   "execution_count": 197,
   "id": "b91cc937-19f7-4860-af03-aef62a3fedad",
   "metadata": {},
   "outputs": [
    {
     "name": "stdout",
     "output_type": "stream",
     "text": [
      "root\n",
      " |-- product_id: string (nullable = true)\n",
      " |-- year: string (nullable = true)\n",
      " |-- total_year_sales: string (nullable = true)\n",
      " |-- previous_year_revenue: string (nullable = true)\n",
      "\n"
     ]
    }
   ],
   "source": [
    "df_salestable.printSchema()"
   ]
  },
  {
   "cell_type": "code",
   "execution_count": 95,
   "id": "48231b91-9e8e-47ba-80b8-dc0d11e35b74",
   "metadata": {},
   "outputs": [],
   "source": [
    "#imports\n",
    "from pyspark.sql import Window\n",
    "from pyspark.sql.functions import col, min , lag, max\n"
   ]
  },
  {
   "cell_type": "code",
   "execution_count": 69,
   "id": "bf5a9eb8-a085-4415-909c-7e26d0ff02c2",
   "metadata": {},
   "outputs": [],
   "source": [
    "df_salestable=df_salestable.withColumn(\"previous_year_revenue\",lag(col(\"total_year_sales\")).over(Window.partitionBy(\"product_id\")\n",
    "                                                                                                                    .orderBy(\"year\")))"
   ]
  },
  {
   "cell_type": "code",
   "execution_count": 72,
   "id": "4077c05a-a9b7-4270-a890-4131ca4a936a",
   "metadata": {},
   "outputs": [
    {
     "name": "stdout",
     "output_type": "stream",
     "text": [
      "+----------+----+----------------+---------------------+\n",
      "|product_id|year|total_year_sales|previous_year_revenue|\n",
      "+----------+----+----------------+---------------------+\n",
      "|         1|2019|            1000|                 NULL|\n",
      "|         1|2020|            1200|                 1000|\n",
      "|         1|2021|            1100|                 1200|\n",
      "|         2|2019|             500|                 NULL|\n",
      "|         2|2020|             600|                  500|\n",
      "|         2|2021|             900|                  600|\n",
      "|         3|2019|             300|                 NULL|\n",
      "|         3|2020|             450|                  300|\n",
      "|         3|2021|             400|                  450|\n",
      "+----------+----+----------------+---------------------+\n",
      "\n"
     ]
    }
   ],
   "source": [
    "df_salestable.show()"
   ]
  },
  {
   "cell_type": "code",
   "execution_count": 73,
   "id": "9a4a911d-96e1-4387-b22a-d5cc27785e80",
   "metadata": {},
   "outputs": [],
   "source": [
    "df_differencetable=df_salestable.withColumn(\"revenue_diffr\", col(\"total_year_sales\") - col(\"previous_year_revenue\"))"
   ]
  },
  {
   "cell_type": "code",
   "execution_count": 74,
   "id": "ec7f4e94-8872-4fb8-b811-55d5b8bbdd81",
   "metadata": {},
   "outputs": [
    {
     "name": "stdout",
     "output_type": "stream",
     "text": [
      "+----------+----+----------------+---------------------+-------------+\n",
      "|product_id|year|total_year_sales|previous_year_revenue|revenue_diffr|\n",
      "+----------+----+----------------+---------------------+-------------+\n",
      "|         1|2019|            1000|                 NULL|         NULL|\n",
      "|         1|2020|            1200|                 1000|        200.0|\n",
      "|         1|2021|            1100|                 1200|       -100.0|\n",
      "|         2|2019|             500|                 NULL|         NULL|\n",
      "|         2|2020|             600|                  500|        100.0|\n",
      "|         2|2021|             900|                  600|        300.0|\n",
      "|         3|2019|             300|                 NULL|         NULL|\n",
      "|         3|2020|             450|                  300|        150.0|\n",
      "|         3|2021|             400|                  450|        -50.0|\n",
      "+----------+----+----------------+---------------------+-------------+\n",
      "\n"
     ]
    }
   ],
   "source": [
    "df_differencetable.show()"
   ]
  },
  {
   "cell_type": "code",
   "execution_count": 201,
   "id": "776d8550-c098-4193-a502-a61d9e293be5",
   "metadata": {},
   "outputs": [],
   "source": [
    "df_product_increase=df_differencetable.groupby(\"product_id\").agg((min(col(\"revenue_diffr\"))).alias(\"minimum\"))"
   ]
  },
  {
   "cell_type": "code",
   "execution_count": 202,
   "id": "79860453-1c6f-48b9-9e37-6fb65c0d875d",
   "metadata": {},
   "outputs": [
    {
     "name": "stdout",
     "output_type": "stream",
     "text": [
      "+----------+-------+\n",
      "|product_id|minimum|\n",
      "+----------+-------+\n",
      "|         1| -100.0|\n",
      "|         2|  100.0|\n",
      "|         3|  -50.0|\n",
      "+----------+-------+\n",
      "\n"
     ]
    }
   ],
   "source": [
    "df_product_increase.show()"
   ]
  },
  {
   "cell_type": "code",
   "execution_count": 146,
   "id": "960e9e68-fe52-4c4f-9173-12bda2f1ae6b",
   "metadata": {},
   "outputs": [],
   "source": [
    "df_product_increase_result1=df_product_increase.filter(col(\"minimum\")>0)"
   ]
  },
  {
   "cell_type": "code",
   "execution_count": 167,
   "id": "fb7e56e4-9e27-4952-9d0f-77f5095a4c13",
   "metadata": {},
   "outputs": [
    {
     "name": "stdout",
     "output_type": "stream",
     "text": [
      "+----------+-------+\n",
      "|product_id|minimum|\n",
      "+----------+-------+\n",
      "|         2|  100.0|\n",
      "+----------+-------+\n",
      "\n"
     ]
    }
   ],
   "source": [
    "df_product_increase_result1.show()"
   ]
  },
  {
   "cell_type": "code",
   "execution_count": 175,
   "id": "44714d68-b891-4b2f-a404-3545918f7bb8",
   "metadata": {},
   "outputs": [],
   "source": [
    "#expermenting when we have two postive values in the column\n",
    "df_product_increase_result2 = df_product_increase.agg(max(col(\"minimum\")))"
   ]
  },
  {
   "cell_type": "code",
   "execution_count": 176,
   "id": "9137cc17-c41e-490a-a55c-f065a996f202",
   "metadata": {},
   "outputs": [
    {
     "name": "stdout",
     "output_type": "stream",
     "text": [
      "+------------+\n",
      "|max(minimum)|\n",
      "+------------+\n",
      "|       100.0|\n",
      "+------------+\n",
      "\n"
     ]
    }
   ],
   "source": [
    "df_product_increase_result2.show()"
   ]
  },
  {
   "cell_type": "code",
   "execution_count": 204,
   "id": "7546c588-37c1-4483-883d-69550c5ef89c",
   "metadata": {},
   "outputs": [],
   "source": [
    "# JOINS THE PRODUCTID FROM THE pRODUCT tABLE\n",
    "df_final=df_product_increase_result1.join(df_producttable, on =\"product_id\", how =\"inner\")\\\n",
    "        .select(col(\"product_id\"),col(\"product_name\"),col(\"category\"))"
   ]
  },
  {
   "cell_type": "code",
   "execution_count": 205,
   "id": "ae457ade-7759-45b4-95bd-a39d41e4abb6",
   "metadata": {},
   "outputs": [
    {
     "name": "stdout",
     "output_type": "stream",
     "text": [
      "+----------+------------+--------+\n",
      "|product_id|product_name|category|\n",
      "+----------+------------+--------+\n",
      "|         2|       Jeans|Clothing|\n",
      "+----------+------------+--------+\n",
      "\n"
     ]
    }
   ],
   "source": [
    "df_final.show()"
   ]
  },
  {
   "cell_type": "code",
   "execution_count": null,
   "id": "02abe910-27da-4b1c-b9d2-a7199aa91fdb",
   "metadata": {},
   "outputs": [],
   "source": []
  }
 ],
 "metadata": {
  "kernelspec": {
   "display_name": "Python 3 (ipykernel)",
   "language": "python",
   "name": "python3"
  },
  "language_info": {
   "codemirror_mode": {
    "name": "ipython",
    "version": 3
   },
   "file_extension": ".py",
   "mimetype": "text/x-python",
   "name": "python",
   "nbconvert_exporter": "python",
   "pygments_lexer": "ipython3",
   "version": "3.9.13"
  }
 },
 "nbformat": 4,
 "nbformat_minor": 5
}

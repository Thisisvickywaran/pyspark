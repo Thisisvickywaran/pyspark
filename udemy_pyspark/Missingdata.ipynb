{
 "cells": [
  {
   "cell_type": "markdown",
   "id": "269352fc-a9e4-4c2e-a373-d56227282240",
   "metadata": {},
   "source": [
    "Missingdata\n"
   ]
  },
  {
   "cell_type": "code",
   "execution_count": 2,
   "id": "49f0596b-4fae-4846-8bc8-dbf65cb86eb1",
   "metadata": {},
   "outputs": [
    {
     "data": {
      "text/html": [
       "\n",
       "            <div>\n",
       "                <p><b>SparkSession - in-memory</b></p>\n",
       "                \n",
       "        <div>\n",
       "            <p><b>SparkContext</b></p>\n",
       "\n",
       "            <p><a href=\"http://DESKTOP-0LF0S6I:4040\">Spark UI</a></p>\n",
       "\n",
       "            <dl>\n",
       "              <dt>Version</dt>\n",
       "                <dd><code>v3.5.0</code></dd>\n",
       "              <dt>Master</dt>\n",
       "                <dd><code>local[*]</code></dd>\n",
       "              <dt>AppName</dt>\n",
       "                <dd><code>groupbyandaggregate</code></dd>\n",
       "            </dl>\n",
       "        </div>\n",
       "        \n",
       "            </div>\n",
       "        "
      ],
      "text/plain": [
       "<pyspark.sql.session.SparkSession at 0x1e91dcee3d0>"
      ]
     },
     "execution_count": 2,
     "metadata": {},
     "output_type": "execute_result"
    }
   ],
   "source": [
    "from pyspark.sql import SparkSession\n",
    "spark=SparkSession.builder\\\n",
    "        .appName(\"groupbyandaggregate\")\\\n",
    "        .getOrCreate()\n",
    "spark"
   ]
  },
  {
   "cell_type": "code",
   "execution_count": 3,
   "id": "8b2c6fda-7633-4357-8c6f-c03cddc616f8",
   "metadata": {},
   "outputs": [],
   "source": [
    "df=spark.read.csv(\"ContainsNull.csv\",inferSchema=True,header=True)"
   ]
  },
  {
   "cell_type": "code",
   "execution_count": 4,
   "id": "89921ce8-f204-4d25-8276-6f3d6ffd39ad",
   "metadata": {},
   "outputs": [
    {
     "name": "stdout",
     "output_type": "stream",
     "text": [
      "+----+-----+-----+\n",
      "|  Id| Name|Sales|\n",
      "+----+-----+-----+\n",
      "|emp1| John| NULL|\n",
      "|emp2| NULL| NULL|\n",
      "|emp3| NULL|345.0|\n",
      "|emp4|Cindy|456.0|\n",
      "+----+-----+-----+\n",
      "\n"
     ]
    }
   ],
   "source": [
    "df.show()"
   ]
  },
  {
   "cell_type": "code",
   "execution_count": 5,
   "id": "54e2a5c2-e1fd-4bb7-af54-d7f18c3fe8c0",
   "metadata": {},
   "outputs": [
    {
     "name": "stdout",
     "output_type": "stream",
     "text": [
      "+----+-----+-----+\n",
      "|  Id| Name|Sales|\n",
      "+----+-----+-----+\n",
      "|emp4|Cindy|456.0|\n",
      "+----+-----+-----+\n",
      "\n"
     ]
    }
   ],
   "source": [
    "df.na.drop().show()# its going to drop the values of the nulls with its rows"
   ]
  },
  {
   "cell_type": "code",
   "execution_count": 9,
   "id": "1b22bc2f-b68c-4db4-8688-9f46ba9df6e6",
   "metadata": {},
   "outputs": [
    {
     "name": "stdout",
     "output_type": "stream",
     "text": [
      "+----+-----+-----+\n",
      "|  Id| Name|Sales|\n",
      "+----+-----+-----+\n",
      "|emp1| John| NULL|\n",
      "|emp3| NULL|345.0|\n",
      "|emp4|Cindy|456.0|\n",
      "+----+-----+-----+\n",
      "\n"
     ]
    }
   ],
   "source": [
    "df.na.drop(thresh=2).show() #means row which as equal or more than 2n ull value it will delete that row"
   ]
  },
  {
   "cell_type": "code",
   "execution_count": 10,
   "id": "65e330b1-a26c-4039-a189-7d5d4058b822",
   "metadata": {},
   "outputs": [
    {
     "name": "stdout",
     "output_type": "stream",
     "text": [
      "+----+-----+-----+\n",
      "|  Id| Name|Sales|\n",
      "+----+-----+-----+\n",
      "|emp4|Cindy|456.0|\n",
      "+----+-----+-----+\n",
      "\n"
     ]
    }
   ],
   "source": [
    "df.na.drop(how='any').show() #means row which as the null will be deletd "
   ]
  },
  {
   "cell_type": "code",
   "execution_count": 12,
   "id": "933def9f-1d12-4665-a0f5-dbe530f445bb",
   "metadata": {},
   "outputs": [
    {
     "name": "stdout",
     "output_type": "stream",
     "text": [
      "+----+-----+-----+\n",
      "|  Id| Name|Sales|\n",
      "+----+-----+-----+\n",
      "|emp1| John| NULL|\n",
      "|emp2| NULL| NULL|\n",
      "|emp3| NULL|345.0|\n",
      "|emp4|Cindy|456.0|\n",
      "+----+-----+-----+\n",
      "\n"
     ]
    }
   ],
   "source": [
    "df.na.drop(how='all').show() #means row which as everything is null in it it will be deleted , since we dont have any row with full null so it gives the same result"
   ]
  },
  {
   "cell_type": "code",
   "execution_count": 14,
   "id": "f834bd66-cfc2-41f6-9963-9a2c91cbe863",
   "metadata": {},
   "outputs": [
    {
     "name": "stdout",
     "output_type": "stream",
     "text": [
      "+----+-----+-----+\n",
      "|  Id| Name|Sales|\n",
      "+----+-----+-----+\n",
      "|emp3| NULL|345.0|\n",
      "|emp4|Cindy|456.0|\n",
      "+----+-----+-----+\n",
      "\n"
     ]
    }
   ],
   "source": [
    "df.na.drop(subset=['Sales']).show() #if any null values in eh Sales Column it will be deleted"
   ]
  },
  {
   "cell_type": "markdown",
   "id": "cdf39e10-0c38-4e9a-878e-8eff5488e3cd",
   "metadata": {},
   "source": [
    "Filling the Missing Values"
   ]
  },
  {
   "cell_type": "code",
   "execution_count": 18,
   "id": "d024e707-bb13-437f-8ad8-12096d77cad3",
   "metadata": {},
   "outputs": [
    {
     "name": "stdout",
     "output_type": "stream",
     "text": [
      "root\n",
      " |-- Id: string (nullable = true)\n",
      " |-- Name: string (nullable = true)\n",
      " |-- Sales: double (nullable = true)\n",
      "\n"
     ]
    }
   ],
   "source": [
    "df.printSchema()"
   ]
  },
  {
   "cell_type": "code",
   "execution_count": 21,
   "id": "3a5a33cf-c57b-4a0d-b301-26cf91e68a8a",
   "metadata": {},
   "outputs": [
    {
     "name": "stdout",
     "output_type": "stream",
     "text": [
      "+----+---------+-----+\n",
      "|  Id|     Name|Sales|\n",
      "+----+---------+-----+\n",
      "|emp1|     John| NULL|\n",
      "|emp2|FillValue| NULL|\n",
      "|emp3|FillValue|345.0|\n",
      "|emp4|    Cindy|456.0|\n",
      "+----+---------+-----+\n",
      "\n"
     ]
    }
   ],
   "source": [
    "df.na.fill('FillValue').show() #it fill the 'Fill Value' in the String Data Type (Name) , thats why Sales column doesnt applied with fill value"
   ]
  },
  {
   "cell_type": "code",
   "execution_count": 22,
   "id": "3a9f8154-ee15-484c-a3a1-7553bd5034ce",
   "metadata": {},
   "outputs": [
    {
     "name": "stdout",
     "output_type": "stream",
     "text": [
      "+----+-----+-----+\n",
      "|  Id| Name|Sales|\n",
      "+----+-----+-----+\n",
      "|emp1| John|123.0|\n",
      "|emp2| NULL|123.0|\n",
      "|emp3| NULL|345.0|\n",
      "|emp4|Cindy|456.0|\n",
      "+----+-----+-----+\n",
      "\n"
     ]
    }
   ],
   "source": [
    "df.na.fill(123).show() # now we are passign the double in the fill function it fill the 123 in the double Data Type (Name) , thats why Name column doesnt applied with fill value"
   ]
  },
  {
   "cell_type": "code",
   "execution_count": 24,
   "id": "855bd924-54f4-4fa3-810f-8398d3a7c688",
   "metadata": {},
   "outputs": [
    {
     "name": "stdout",
     "output_type": "stream",
     "text": [
      "+----+------------+-----+\n",
      "|  Id|        Name|Sales|\n",
      "+----+------------+-----+\n",
      "|emp1|        John| NULL|\n",
      "|emp2|Fill a value| NULL|\n",
      "|emp3|Fill a value|345.0|\n",
      "|emp4|       Cindy|456.0|\n",
      "+----+------------+-----+\n",
      "\n"
     ]
    }
   ],
   "source": [
    "df.na.fill('Fill a value',subset=['Name']).show() #mentioning the subset because fill replaces all the string datatype column which as null values in it"
   ]
  },
  {
   "cell_type": "markdown",
   "id": "8cce053b-3d2a-41fc-bd14-5e057e3cd366",
   "metadata": {},
   "source": [
    "Filling a Null values with mean values"
   ]
  },
  {
   "cell_type": "code",
   "execution_count": 25,
   "id": "aeba7a79-bb26-4496-a082-5cf3b528cb7e",
   "metadata": {},
   "outputs": [],
   "source": [
    "from pyspark.sql.functions import mean"
   ]
  },
  {
   "cell_type": "code",
   "execution_count": 26,
   "id": "6fbc704f-050c-49e4-8230-a2098b6b8cce",
   "metadata": {},
   "outputs": [],
   "source": [
    "mean_value=df.select(mean(df['Sales'])).collect()"
   ]
  },
  {
   "cell_type": "code",
   "execution_count": 27,
   "id": "5e99d829-216d-40a3-8c50-412301feaa12",
   "metadata": {},
   "outputs": [
    {
     "data": {
      "text/plain": [
       "[Row(avg(Sales)=400.5)]"
      ]
     },
     "execution_count": 27,
     "metadata": {},
     "output_type": "execute_result"
    }
   ],
   "source": [
    "mean_value"
   ]
  },
  {
   "cell_type": "code",
   "execution_count": 28,
   "id": "38923a40-a480-403f-ad92-f49d034233eb",
   "metadata": {},
   "outputs": [
    {
     "data": {
      "text/plain": [
       "Row(avg(Sales)=400.5)"
      ]
     },
     "execution_count": 28,
     "metadata": {},
     "output_type": "execute_result"
    }
   ],
   "source": [
    "mean_value[0]"
   ]
  },
  {
   "cell_type": "code",
   "execution_count": 43,
   "id": "53262de6-81dc-44af-abaa-5165e5fdfe39",
   "metadata": {},
   "outputs": [
    {
     "data": {
      "text/plain": [
       "400.5"
      ]
     },
     "execution_count": 43,
     "metadata": {},
     "output_type": "execute_result"
    }
   ],
   "source": [
    "mean_value[0][0]"
   ]
  },
  {
   "cell_type": "code",
   "execution_count": 45,
   "id": "0a95c483-919e-4208-8c59-cbc2e2eefa7e",
   "metadata": {},
   "outputs": [],
   "source": [
    "mean_sales=mean_value[0][0]"
   ]
  },
  {
   "cell_type": "code",
   "execution_count": 50,
   "id": "50c06d01-1518-47ca-b599-ef9263329ad7",
   "metadata": {},
   "outputs": [
    {
     "name": "stdout",
     "output_type": "stream",
     "text": [
      "400.5\n"
     ]
    }
   ],
   "source": [
    "print(mean_sales)"
   ]
  },
  {
   "cell_type": "code",
   "execution_count": 48,
   "id": "3b3962b0-550f-4b4a-b93e-1d47af41d164",
   "metadata": {},
   "outputs": [
    {
     "name": "stdout",
     "output_type": "stream",
     "text": [
      "+----+-----+-----+\n",
      "|  Id| Name|Sales|\n",
      "+----+-----+-----+\n",
      "|emp1| John| NULL|\n",
      "|emp2| NULL| NULL|\n",
      "|emp3| NULL|345.0|\n",
      "|emp4|Cindy|456.0|\n",
      "+----+-----+-----+\n",
      "\n"
     ]
    }
   ],
   "source": [
    "df.show()"
   ]
  },
  {
   "cell_type": "code",
   "execution_count": 49,
   "id": "9d0525e6-8e3b-4e3f-b2e7-96a3d4dcb7de",
   "metadata": {},
   "outputs": [
    {
     "name": "stdout",
     "output_type": "stream",
     "text": [
      "+----+-----+-----+\n",
      "|  Id| Name|Sales|\n",
      "+----+-----+-----+\n",
      "|emp1| John|400.5|\n",
      "|emp2| NULL|400.5|\n",
      "|emp3| NULL|345.0|\n",
      "|emp4|Cindy|456.0|\n",
      "+----+-----+-----+\n",
      "\n"
     ]
    }
   ],
   "source": [
    "df.na.fill(mean_sales,['Sales']).show()"
   ]
  },
  {
   "cell_type": "code",
   "execution_count": 54,
   "id": "231a1ede-5ae6-4b66-8767-ba11d9d6ddef",
   "metadata": {},
   "outputs": [
    {
     "name": "stdout",
     "output_type": "stream",
     "text": [
      "+----+-----+-----+\n",
      "|  Id| Name|Sales|\n",
      "+----+-----+-----+\n",
      "|emp1| John|400.5|\n",
      "|emp2| NULL|400.5|\n",
      "|emp3| NULL|345.0|\n",
      "|emp4|Cindy|456.0|\n",
      "+----+-----+-----+\n",
      "\n"
     ]
    }
   ],
   "source": [
    "#one line print\n",
    "df.na.fill(df.select(mean(df['Sales'])).collect()[0][0],['Sales']).show()\n"
   ]
  },
  {
   "cell_type": "code",
   "execution_count": null,
   "id": "87531056-0cae-4902-9158-2e567a6d260c",
   "metadata": {},
   "outputs": [],
   "source": []
  }
 ],
 "metadata": {
  "kernelspec": {
   "display_name": "Python 3 (ipykernel)",
   "language": "python",
   "name": "python3"
  },
  "language_info": {
   "codemirror_mode": {
    "name": "ipython",
    "version": 3
   },
   "file_extension": ".py",
   "mimetype": "text/x-python",
   "name": "python",
   "nbconvert_exporter": "python",
   "pygments_lexer": "ipython3",
   "version": "3.9.13"
  }
 },
 "nbformat": 4,
 "nbformat_minor": 5
}

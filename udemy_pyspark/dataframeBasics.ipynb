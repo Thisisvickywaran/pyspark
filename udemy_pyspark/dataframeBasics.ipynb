{
 "cells": [
  {
   "cell_type": "markdown",
   "id": "df3adfc2-eb10-4996-ae28-0b53ab33ffff",
   "metadata": {},
   "source": [
    "#spark Dataframe Basics"
   ]
  },
  {
   "cell_type": "code",
   "execution_count": 2,
   "id": "18328a06-ba27-417e-8787-d43d675acec3",
   "metadata": {},
   "outputs": [],
   "source": [
    "from pyspark.sql import SparkSession"
   ]
  },
  {
   "cell_type": "code",
   "execution_count": 3,
   "id": "d1709a36-8ef6-4baa-861f-759c36161c68",
   "metadata": {},
   "outputs": [
    {
     "data": {
      "text/html": [
       "\n",
       "            <div>\n",
       "                <p><b>SparkSession - in-memory</b></p>\n",
       "                \n",
       "        <div>\n",
       "            <p><b>SparkContext</b></p>\n",
       "\n",
       "            <p><a href=\"http://DESKTOP-0LF0S6I:4041\">Spark UI</a></p>\n",
       "\n",
       "            <dl>\n",
       "              <dt>Version</dt>\n",
       "                <dd><code>v3.5.0</code></dd>\n",
       "              <dt>Master</dt>\n",
       "                <dd><code>local[*]</code></dd>\n",
       "              <dt>AppName</dt>\n",
       "                <dd><code>basics</code></dd>\n",
       "            </dl>\n",
       "        </div>\n",
       "        \n",
       "            </div>\n",
       "        "
      ],
      "text/plain": [
       "<pyspark.sql.session.SparkSession at 0x2af776bdfa0>"
      ]
     },
     "execution_count": 3,
     "metadata": {},
     "output_type": "execute_result"
    }
   ],
   "source": [
    "spark=SparkSession.builder\\\n",
    "        .appName(\"basics\")\\\n",
    "        .getOrCreate()\n",
    "spark"
   ]
  },
  {
   "cell_type": "code",
   "execution_count": 4,
   "id": "4cf9943a-7360-4610-abf7-64f62992011a",
   "metadata": {},
   "outputs": [],
   "source": [
    "df_basic=spark.read.json(\"people.json\")"
   ]
  },
  {
   "cell_type": "code",
   "execution_count": 6,
   "id": "75b9a235-6bd6-4044-b660-91f5bcd37297",
   "metadata": {},
   "outputs": [
    {
     "name": "stdout",
     "output_type": "stream",
     "text": [
      "+----+-------+\n",
      "| age|   name|\n",
      "+----+-------+\n",
      "|NULL|Michael|\n",
      "|  30|   Andy|\n",
      "|  19| Justin|\n",
      "+----+-------+\n",
      "\n"
     ]
    }
   ],
   "source": [
    "df_basic.show()"
   ]
  },
  {
   "cell_type": "code",
   "execution_count": 7,
   "id": "fc234286-54ed-4b53-9caa-90e573f7d9d1",
   "metadata": {},
   "outputs": [
    {
     "name": "stdout",
     "output_type": "stream",
     "text": [
      "root\n",
      " |-- age: long (nullable = true)\n",
      " |-- name: string (nullable = true)\n",
      "\n"
     ]
    }
   ],
   "source": [
    "df_basic.printSchema()"
   ]
  },
  {
   "cell_type": "code",
   "execution_count": 11,
   "id": "99c6d528-615d-423e-879e-b9bd634ca9d3",
   "metadata": {},
   "outputs": [
    {
     "data": {
      "text/plain": [
       "['age', 'name']"
      ]
     },
     "execution_count": 11,
     "metadata": {},
     "output_type": "execute_result"
    }
   ],
   "source": [
    "df_basic.columns"
   ]
  },
  {
   "cell_type": "code",
   "execution_count": 12,
   "id": "1ca27103-dff0-439c-b8b7-32291dbff7c3",
   "metadata": {},
   "outputs": [
    {
     "data": {
      "text/plain": [
       "DataFrame[summary: string, age: string, name: string]"
      ]
     },
     "execution_count": 12,
     "metadata": {},
     "output_type": "execute_result"
    }
   ],
   "source": [
    "df_basic.describe()"
   ]
  },
  {
   "cell_type": "code",
   "execution_count": 13,
   "id": "adf6224a-11e3-4898-89b0-9d28f36972ab",
   "metadata": {},
   "outputs": [
    {
     "name": "stdout",
     "output_type": "stream",
     "text": [
      "+-------+------------------+-------+\n",
      "|summary|               age|   name|\n",
      "+-------+------------------+-------+\n",
      "|  count|                 2|      3|\n",
      "|   mean|              24.5|   NULL|\n",
      "| stddev|7.7781745930520225|   NULL|\n",
      "|    min|                19|   Andy|\n",
      "|    max|                30|Michael|\n",
      "+-------+------------------+-------+\n",
      "\n"
     ]
    }
   ],
   "source": [
    "df_basic.describe().show()"
   ]
  },
  {
   "cell_type": "markdown",
   "id": "e714ec1a-de61-4f87-87c5-79a2a119c0ab",
   "metadata": {},
   "source": [
    "#changing the Schema of the Dataframe from the Source or from the file"
   ]
  },
  {
   "cell_type": "code",
   "execution_count": 16,
   "id": "07fd9689-20ba-4f5e-9521-4bcfa91fe889",
   "metadata": {},
   "outputs": [],
   "source": [
    "from pyspark.sql.types import (StructField,StringType,IntegerType,StructType)"
   ]
  },
  {
   "cell_type": "code",
   "execution_count": 26,
   "id": "808af4e3-5538-4de8-aff3-921ec359b71d",
   "metadata": {},
   "outputs": [],
   "source": [
    "#we are decalring a variable with structFiled of int and string for the age and Name\n",
    "dataschema =[StructField('age',IntegerType(),True),\n",
    "            StructField('Name',StringType(),True)]"
   ]
  },
  {
   "cell_type": "code",
   "execution_count": 30,
   "id": "63476e14-1b52-49d4-8ddb-8a7339e70c9a",
   "metadata": {},
   "outputs": [],
   "source": [
    "#we are making in the strucType for the datascheme which is a structfiled\n",
    "final_struct=StructType(fields=dataschema)"
   ]
  },
  {
   "cell_type": "code",
   "execution_count": 33,
   "id": "f578251d-e265-4ba3-8932-c6252b051ede",
   "metadata": {},
   "outputs": [],
   "source": [
    "df_changed=spark.read.json('people.json',schema=final_struct)"
   ]
  },
  {
   "cell_type": "code",
   "execution_count": 34,
   "id": "8dad7b00-575e-4914-91bc-5099c4a49e55",
   "metadata": {},
   "outputs": [
    {
     "name": "stdout",
     "output_type": "stream",
     "text": [
      "+----+----+\n",
      "| age|Name|\n",
      "+----+----+\n",
      "|NULL|NULL|\n",
      "|  30|NULL|\n",
      "|  19|NULL|\n",
      "+----+----+\n",
      "\n"
     ]
    }
   ],
   "source": [
    "df_changed.show()"
   ]
  },
  {
   "cell_type": "code",
   "execution_count": 35,
   "id": "d864080f-648c-4c6e-b3c8-3f5b7354200c",
   "metadata": {},
   "outputs": [
    {
     "name": "stdout",
     "output_type": "stream",
     "text": [
      "root\n",
      " |-- age: integer (nullable = true)\n",
      " |-- Name: string (nullable = true)\n",
      "\n"
     ]
    }
   ],
   "source": [
    "df_changed.printSchema()"
   ]
  },
  {
   "cell_type": "code",
   "execution_count": null,
   "id": "b37b6fcf-f5a5-442a-8971-05d61bfb56a9",
   "metadata": {},
   "outputs": [],
   "source": []
  }
 ],
 "metadata": {
  "kernelspec": {
   "display_name": "Python 3 (ipykernel)",
   "language": "python",
   "name": "python3"
  },
  "language_info": {
   "codemirror_mode": {
    "name": "ipython",
    "version": 3
   },
   "file_extension": ".py",
   "mimetype": "text/x-python",
   "name": "python",
   "nbconvert_exporter": "python",
   "pygments_lexer": "ipython3",
   "version": "3.9.13"
  }
 },
 "nbformat": 4,
 "nbformat_minor": 5
}

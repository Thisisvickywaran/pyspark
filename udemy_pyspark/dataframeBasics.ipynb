{
 "cells": [
  {
   "cell_type": "markdown",
   "id": "df3adfc2-eb10-4996-ae28-0b53ab33ffff",
   "metadata": {},
   "source": [
    "#spark Dataframe Basics"
   ]
  },
  {
   "cell_type": "code",
   "execution_count": 36,
   "id": "18328a06-ba27-417e-8787-d43d675acec3",
   "metadata": {},
   "outputs": [],
   "source": [
    "from pyspark.sql import SparkSession"
   ]
  },
  {
   "cell_type": "code",
   "execution_count": 37,
   "id": "d1709a36-8ef6-4baa-861f-759c36161c68",
   "metadata": {},
   "outputs": [
    {
     "data": {
      "text/html": [
       "\n",
       "            <div>\n",
       "                <p><b>SparkSession - in-memory</b></p>\n",
       "                \n",
       "        <div>\n",
       "            <p><b>SparkContext</b></p>\n",
       "\n",
       "            <p><a href=\"http://DESKTOP-0LF0S6I:4041\">Spark UI</a></p>\n",
       "\n",
       "            <dl>\n",
       "              <dt>Version</dt>\n",
       "                <dd><code>v3.5.0</code></dd>\n",
       "              <dt>Master</dt>\n",
       "                <dd><code>local[*]</code></dd>\n",
       "              <dt>AppName</dt>\n",
       "                <dd><code>basics</code></dd>\n",
       "            </dl>\n",
       "        </div>\n",
       "        \n",
       "            </div>\n",
       "        "
      ],
      "text/plain": [
       "<pyspark.sql.session.SparkSession at 0x2af776bdfa0>"
      ]
     },
     "execution_count": 37,
     "metadata": {},
     "output_type": "execute_result"
    }
   ],
   "source": [
    "spark=SparkSession.builder\\\n",
    "        .appName(\"basics\")\\\n",
    "        .getOrCreate()\n",
    "spark"
   ]
  },
  {
   "cell_type": "code",
   "execution_count": 38,
   "id": "4cf9943a-7360-4610-abf7-64f62992011a",
   "metadata": {},
   "outputs": [],
   "source": [
    "df_basic=spark.read.json(\"people.json\")"
   ]
  },
  {
   "cell_type": "code",
   "execution_count": 39,
   "id": "75b9a235-6bd6-4044-b660-91f5bcd37297",
   "metadata": {},
   "outputs": [
    {
     "name": "stdout",
     "output_type": "stream",
     "text": [
      "+----+-------+\n",
      "| age|   name|\n",
      "+----+-------+\n",
      "|NULL|Michael|\n",
      "|  30|   Andy|\n",
      "|  19| Justin|\n",
      "+----+-------+\n",
      "\n"
     ]
    }
   ],
   "source": [
    "df_basic.show()"
   ]
  },
  {
   "cell_type": "code",
   "execution_count": 40,
   "id": "fc234286-54ed-4b53-9caa-90e573f7d9d1",
   "metadata": {},
   "outputs": [
    {
     "name": "stdout",
     "output_type": "stream",
     "text": [
      "root\n",
      " |-- age: long (nullable = true)\n",
      " |-- name: string (nullable = true)\n",
      "\n"
     ]
    }
   ],
   "source": [
    "df_basic.printSchema()"
   ]
  },
  {
   "cell_type": "code",
   "execution_count": 41,
   "id": "99c6d528-615d-423e-879e-b9bd634ca9d3",
   "metadata": {},
   "outputs": [
    {
     "data": {
      "text/plain": [
       "['age', 'name']"
      ]
     },
     "execution_count": 41,
     "metadata": {},
     "output_type": "execute_result"
    }
   ],
   "source": [
    "df_basic.columns"
   ]
  },
  {
   "cell_type": "code",
   "execution_count": 42,
   "id": "1ca27103-dff0-439c-b8b7-32291dbff7c3",
   "metadata": {},
   "outputs": [
    {
     "data": {
      "text/plain": [
       "DataFrame[summary: string, age: string, name: string]"
      ]
     },
     "execution_count": 42,
     "metadata": {},
     "output_type": "execute_result"
    }
   ],
   "source": [
    "df_basic.describe()"
   ]
  },
  {
   "cell_type": "code",
   "execution_count": 43,
   "id": "adf6224a-11e3-4898-89b0-9d28f36972ab",
   "metadata": {},
   "outputs": [
    {
     "name": "stdout",
     "output_type": "stream",
     "text": [
      "+-------+------------------+-------+\n",
      "|summary|               age|   name|\n",
      "+-------+------------------+-------+\n",
      "|  count|                 2|      3|\n",
      "|   mean|              24.5|   NULL|\n",
      "| stddev|7.7781745930520225|   NULL|\n",
      "|    min|                19|   Andy|\n",
      "|    max|                30|Michael|\n",
      "+-------+------------------+-------+\n",
      "\n"
     ]
    }
   ],
   "source": [
    "df_basic.describe().show()"
   ]
  },
  {
   "cell_type": "markdown",
   "id": "e714ec1a-de61-4f87-87c5-79a2a119c0ab",
   "metadata": {},
   "source": [
    "#changing the Schema of the Dataframe from the Source or from the file"
   ]
  },
  {
   "cell_type": "code",
   "execution_count": 122,
   "id": "07fd9689-20ba-4f5e-9521-4bcfa91fe889",
   "metadata": {},
   "outputs": [],
   "source": [
    "from pyspark.sql.types import (StructField,StringType,IntegerType,StructType)\n",
    "from pyspark.sql.functions import lit , when"
   ]
  },
  {
   "cell_type": "code",
   "execution_count": 63,
   "id": "808af4e3-5538-4de8-aff3-921ec359b71d",
   "metadata": {},
   "outputs": [],
   "source": [
    "#we are decalring a variable with structFiled of int and string for the age and Name\n",
    "dataschema =[StructField('age',IntegerType(),True),StructField('name',StringType(),True)]\n",
    "\n",
    "#data_schema = [StructField(\"age\", IntegerType(), True),StructField(\"name\", StringType(), True)]"
   ]
  },
  {
   "cell_type": "code",
   "execution_count": 64,
   "id": "63476e14-1b52-49d4-8ddb-8a7339e70c9a",
   "metadata": {},
   "outputs": [],
   "source": [
    "#we are making in the strucType for the datascheme which is a structfiled\n",
    "final_struct=StructType(fields=dataschema)\n",
    "#final_struc = StructType(fields=data_schema)"
   ]
  },
  {
   "cell_type": "code",
   "execution_count": 65,
   "id": "f578251d-e265-4ba3-8932-c6252b051ede",
   "metadata": {},
   "outputs": [],
   "source": [
    "df_changed=spark.read.json('people.json',schema=final_struct)\n",
    "#df = spark.read.json('people.json', schema=final_struc)"
   ]
  },
  {
   "cell_type": "code",
   "execution_count": 67,
   "id": "8dad7b00-575e-4914-91bc-5099c4a49e55",
   "metadata": {},
   "outputs": [
    {
     "name": "stdout",
     "output_type": "stream",
     "text": [
      "root\n",
      " |-- age: integer (nullable = true)\n",
      " |-- name: string (nullable = true)\n",
      "\n"
     ]
    }
   ],
   "source": [
    "df_changed.printSchema()\n",
    "#df.printSchema()"
   ]
  },
  {
   "cell_type": "code",
   "execution_count": 68,
   "id": "d864080f-648c-4c6e-b3c8-3f5b7354200c",
   "metadata": {},
   "outputs": [
    {
     "name": "stdout",
     "output_type": "stream",
     "text": [
      "+----+-------+\n",
      "| age|   name|\n",
      "+----+-------+\n",
      "|NULL|Michael|\n",
      "|  30|   Andy|\n",
      "|  19| Justin|\n",
      "+----+-------+\n",
      "\n"
     ]
    }
   ],
   "source": [
    "df_changed.show()"
   ]
  },
  {
   "cell_type": "code",
   "execution_count": 69,
   "id": "b37b6fcf-f5a5-442a-8971-05d61bfb56a9",
   "metadata": {},
   "outputs": [],
   "source": [
    "#grabing a data from a column"
   ]
  },
  {
   "cell_type": "code",
   "execution_count": 116,
   "id": "a4281faf-6731-4070-b02e-afc2da0aabed",
   "metadata": {},
   "outputs": [
    {
     "data": {
      "text/plain": [
       "Column<'age'>"
      ]
     },
     "execution_count": 116,
     "metadata": {},
     "output_type": "execute_result"
    }
   ],
   "source": [
    "df_changed['age']"
   ]
  },
  {
   "cell_type": "code",
   "execution_count": 79,
   "id": "42c414cb-0f6f-4357-aaaf-ce90f999cccf",
   "metadata": {},
   "outputs": [
    {
     "data": {
      "text/plain": [
       "pyspark.sql.column.Column"
      ]
     },
     "execution_count": 79,
     "metadata": {},
     "output_type": "execute_result"
    }
   ],
   "source": [
    "type(df_changed['age'])"
   ]
  },
  {
   "cell_type": "code",
   "execution_count": 80,
   "id": "bbca1160-1505-4751-87eb-d15c29aa42bf",
   "metadata": {},
   "outputs": [
    {
     "name": "stdout",
     "output_type": "stream",
     "text": [
      "+----+\n",
      "| age|\n",
      "+----+\n",
      "|NULL|\n",
      "|  30|\n",
      "|  19|\n",
      "+----+\n",
      "\n"
     ]
    }
   ],
   "source": [
    "df_changed.select('age').show() # only gives us the result of the age column"
   ]
  },
  {
   "cell_type": "code",
   "execution_count": 84,
   "id": "fe5d9e34-7981-4794-9a99-83a0ce351e02",
   "metadata": {},
   "outputs": [
    {
     "data": {
      "text/plain": [
       "pyspark.sql.dataframe.DataFrame"
      ]
     },
     "execution_count": 84,
     "metadata": {},
     "output_type": "execute_result"
    }
   ],
   "source": [
    "type(df_changed.select('age'))"
   ]
  },
  {
   "cell_type": "code",
   "execution_count": 88,
   "id": "7b687b3e-e6d8-4a4c-a2bf-89de7933c8b4",
   "metadata": {},
   "outputs": [
    {
     "data": {
      "text/plain": [
       "[Row(age=None, name='Michael'), Row(age=30, name='Andy')]"
      ]
     },
     "execution_count": 88,
     "metadata": {},
     "output_type": "execute_result"
    }
   ],
   "source": [
    "df_changed.head(2)"
   ]
  },
  {
   "cell_type": "code",
   "execution_count": 89,
   "id": "e677bb4e-fca0-423a-b09d-8ab927015a99",
   "metadata": {},
   "outputs": [
    {
     "data": {
      "text/plain": [
       "Row(age=None, name='Michael')"
      ]
     },
     "execution_count": 89,
     "metadata": {},
     "output_type": "execute_result"
    }
   ],
   "source": [
    "df_changed.head(2)[0]"
   ]
  },
  {
   "cell_type": "code",
   "execution_count": 98,
   "id": "28809721-0435-4f87-8ee2-d134d42c02cc",
   "metadata": {},
   "outputs": [
    {
     "name": "stdout",
     "output_type": "stream",
     "text": [
      "+----+-------+------+\n",
      "| age|   name|sample|\n",
      "+----+-------+------+\n",
      "|NULL|Michael|  NULL|\n",
      "|  30|   Andy|    30|\n",
      "|  19| Justin|    19|\n",
      "+----+-------+------+\n",
      "\n"
     ]
    }
   ],
   "source": [
    "df_changed.withColumn(\"sample\",df_changed['age']).show()"
   ]
  },
  {
   "cell_type": "code",
   "execution_count": 109,
   "id": "c3b14c73-f6cf-44fd-b693-76dec869ef7a",
   "metadata": {},
   "outputs": [],
   "source": [
    "values_dept=[\"IT\",\"Compsci\",\"BIology\"]"
   ]
  },
  {
   "cell_type": "code",
   "execution_count": 125,
   "id": "7385b651-7304-43be-b900-6ef508aeb523",
   "metadata": {},
   "outputs": [],
   "source": [
    "adding_col=df_changed.withColumn(\"Dept\",\n",
    "                       when(df_changed.age.isNull(), lit(values_dept[0]))\n",
    "    .when(df_changed.age == 30, lit(values_dept[1]))\n",
    "    .when(df_changed.age == 19, lit(values_dept[2])))"
   ]
  },
  {
   "cell_type": "code",
   "execution_count": 126,
   "id": "93834474-9911-4c06-b4bf-70e00b128a80",
   "metadata": {},
   "outputs": [
    {
     "name": "stdout",
     "output_type": "stream",
     "text": [
      "+----+-------+-------+\n",
      "| age|   name|   Dept|\n",
      "+----+-------+-------+\n",
      "|NULL|Michael|     IT|\n",
      "|  30|   Andy|Compsci|\n",
      "|  19| Justin|BIology|\n",
      "+----+-------+-------+\n",
      "\n"
     ]
    }
   ],
   "source": [
    "adding_col.show()"
   ]
  },
  {
   "cell_type": "code",
   "execution_count": 127,
   "id": "a4ba9f45-9cd6-4b5f-a77d-910275124cf2",
   "metadata": {},
   "outputs": [
    {
     "name": "stdout",
     "output_type": "stream",
     "text": [
      "+----+-------+----------+\n",
      "| age|   name|double_age|\n",
      "+----+-------+----------+\n",
      "|NULL|Michael|      NULL|\n",
      "|  30|   Andy|        60|\n",
      "|  19| Justin|        38|\n",
      "+----+-------+----------+\n",
      "\n"
     ]
    }
   ],
   "source": [
    "df_changed.withColumn(\"double_age\",df_changed['age']*2).show()"
   ]
  },
  {
   "cell_type": "code",
   "execution_count": 128,
   "id": "8ff705d5-ce25-4ad2-895c-b574e10a4b99",
   "metadata": {},
   "outputs": [
    {
     "name": "stdout",
     "output_type": "stream",
     "text": [
      "+----------+-------+-------+\n",
      "|my_new_age|   name|   Dept|\n",
      "+----------+-------+-------+\n",
      "|      NULL|Michael|     IT|\n",
      "|        30|   Andy|Compsci|\n",
      "|        19| Justin|BIology|\n",
      "+----------+-------+-------+\n",
      "\n"
     ]
    }
   ],
   "source": [
    "adding_col.withColumnRenamed('age','my_new_age').show()"
   ]
  },
  {
   "cell_type": "code",
   "execution_count": 129,
   "id": "b1f786dd-5368-4f1b-bd9a-fc106d77b318",
   "metadata": {},
   "outputs": [],
   "source": [
    "df=adding_col"
   ]
  },
  {
   "cell_type": "code",
   "execution_count": 130,
   "id": "a9011d0c-d6b7-408a-b544-a5f685f22631",
   "metadata": {},
   "outputs": [],
   "source": [
    "df.createOrReplaceTempView('people')  # creates Dataframe to the view here we are creadting the view named people with df dataframe"
   ]
  },
  {
   "cell_type": "code",
   "execution_count": 132,
   "id": "bc19168d-c388-47f9-916b-0be8c4f9d5eb",
   "metadata": {},
   "outputs": [],
   "source": [
    "RESULTS=spark.sql(\"select * from people\")"
   ]
  },
  {
   "cell_type": "code",
   "execution_count": 133,
   "id": "65bdb6a4-82c2-4a47-b9a8-6b5fca6c2762",
   "metadata": {},
   "outputs": [
    {
     "name": "stdout",
     "output_type": "stream",
     "text": [
      "+----+-------+-------+\n",
      "| age|   name|   Dept|\n",
      "+----+-------+-------+\n",
      "|NULL|Michael|     IT|\n",
      "|  30|   Andy|Compsci|\n",
      "|  19| Justin|BIology|\n",
      "+----+-------+-------+\n",
      "\n"
     ]
    }
   ],
   "source": [
    "RESULTS.show()"
   ]
  },
  {
   "cell_type": "code",
   "execution_count": 139,
   "id": "b8ec0d7e-8d54-446d-8b84-7d9ec6ebfe2e",
   "metadata": {},
   "outputs": [],
   "source": [
    "new_result=spark.sql(\"select * from people where age =30\")"
   ]
  },
  {
   "cell_type": "code",
   "execution_count": 140,
   "id": "ae7a34a1-755a-4a9f-bc5f-a4c28e218676",
   "metadata": {},
   "outputs": [
    {
     "name": "stdout",
     "output_type": "stream",
     "text": [
      "+---+----+-------+\n",
      "|age|name|   Dept|\n",
      "+---+----+-------+\n",
      "| 30|Andy|Compsci|\n",
      "+---+----+-------+\n",
      "\n"
     ]
    }
   ],
   "source": [
    "new_result.show()"
   ]
  },
  {
   "cell_type": "code",
   "execution_count": null,
   "id": "0f907222-9148-45a2-bf9b-c8a3bb1ae421",
   "metadata": {},
   "outputs": [],
   "source": []
  }
 ],
 "metadata": {
  "kernelspec": {
   "display_name": "Python 3 (ipykernel)",
   "language": "python",
   "name": "python3"
  },
  "language_info": {
   "codemirror_mode": {
    "name": "ipython",
    "version": 3
   },
   "file_extension": ".py",
   "mimetype": "text/x-python",
   "name": "python",
   "nbconvert_exporter": "python",
   "pygments_lexer": "ipython3",
   "version": "3.9.13"
  }
 },
 "nbformat": 4,
 "nbformat_minor": 5
}
